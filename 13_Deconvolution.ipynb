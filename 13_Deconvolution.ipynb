{
 "cells": [
  {
   "cell_type": "code",
   "execution_count": null,
   "metadata": {},
   "outputs": [],
   "source": [
    "import numpy as np\n",
    "import matplotlib.pyplot as plt"
   ]
  },
  {
   "cell_type": "markdown",
   "metadata": {},
   "source": [
    "# Creating a synthetic trace with ghost, air gun bubbles and noise"
   ]
  },
  {
   "cell_type": "code",
   "execution_count": null,
   "metadata": {},
   "outputs": [],
   "source": [
    "# Ricker Wavelet\n",
    "nt = 1024\n",
    "t=np.linspace(0,1.0,nt)\n",
    "dt=t[2]-t[1]\n",
    "f0=20 \n",
    "t0=0.1\n",
    "arg = np.pi*np.pi*f0*f0*(t-t0)**2\n",
    "wav = (1-2*arg)*np.exp(-arg)\n",
    "\n",
    "freqs = np.fft.fftfreq(nt)/dt;\n",
    "\n",
    "#Adding ghost\n",
    "zs = 10.\n",
    "vw = 1500.\n",
    "delay = 2*zs/vw\n",
    "r0 = -1.\n",
    "GhostFilter = 1.  + r0*np.exp(-1j*2*np.pi*freqs*delay)\n",
    "wav = np.real(np.fft.ifft(np.fft.fft(wav)*GhostFilter))\n",
    "\n",
    "# Adding monochromatic noise with freqs[100] Hz\n",
    "noise = np.zeros([nt])\n",
    "noise[150] = 50.\n",
    "\n",
    "# Adding 5 Bubbles with bubble time period = 0.15 s and decaying amplitude\n",
    "BubbleFilter = (1. + 0.5*np.exp(-1j*2*np.pi*freqs*0.15) + \n",
    "                                           0.25*np.exp(-1j*2*np.pi*freqs*0.3) + \n",
    "                                           0.125*np.exp(-1j*2*np.pi*freqs*0.45) + \n",
    "                                           0.0625*np.exp(-1j*2*np.pi*freqs*0.6) +\n",
    "                                           0.03125*np.exp(-1j*2*np.pi*freqs*0.75))\n",
    "trace = np.real(np.fft.ifft(noise + np.fft.fft(wav)*BubbleFilter))\n",
    "\n",
    "# Ploting wavelet\n",
    "plt.plot(t,trace)\n",
    "plt.xlabel('Time (s)')\n",
    "plt.ylabel('Amplitude')\n",
    "plt.grid()\n",
    "\n"
   ]
  },
  {
   "cell_type": "markdown",
   "metadata": {},
   "source": [
    "## Deghosting using division in the Frequency domain\n",
    "## $D(f) = \\frac{X(f)\\overline{G(f)}}{G(f)\\overline{G(f)} + \\varepsilon}$"
   ]
  },
  {
   "cell_type": "code",
   "execution_count": null,
   "metadata": {},
   "outputs": [],
   "source": [
    "epsilon = 1e-3\n",
    "TRACE_FFT = np.fft.fft(trace)\n",
    "trace_deghosted = np.real(np.fft.ifft(TRACE_FFT*np.conj(GhostFilter)/(GhostFilter*np.conj(GhostFilter) + epsilon)))\n",
    "\n",
    "# Ploting data\n",
    "plt.plot(t,trace_deghosted)\n",
    "plt.xlabel('Time (s)')\n",
    "plt.ylabel('Amplitude')\n",
    "plt.grid()\n",
    "                                                "
   ]
  },
  {
   "cell_type": "markdown",
   "metadata": {},
   "source": [
    "## Deghosting using division in the Frequency domain (Phase only)\n",
    "$\\phi(f) = \\tan\\left[\\frac{imag\\{X(f)\\}}{real\\{X(f)\\}}\\right]^{-1}$ \n",
    "\n",
    "Full data:\n",
    "$X(f) = A(f)\\exp\\left[-i\\phi(f)\\right]$\n",
    "\n",
    "Phase only:\n",
    "$G(f) = \\exp\\left[-i\\phi(f)\\right]$"
   ]
  },
  {
   "cell_type": "code",
   "execution_count": null,
   "metadata": {},
   "outputs": [],
   "source": [
    "TRACE_FFT = np.fft.fft(trace)\n",
    "Phase = np.arctan2(np.imag(GhostFilter),np.real(GhostFilter))\n",
    "Ghost_Phase_only = np.exp(1j*Phase)\n",
    "trace_deghosted2 = np.real(np.fft.ifft(TRACE_FFT*np.conj(Ghost_Phase_only)/(Ghost_Phase_only*np.conj(Ghost_Phase_only) + epsilon)))\n",
    "\n",
    "# Ploting wavelet\n",
    "plt.plot(t,trace_deghosted2)\n",
    "plt.xlabel('Time (s)')\n",
    "plt.ylabel('Amplitude')\n",
    "plt.grid()\n",
    "                "
   ]
  },
  {
   "cell_type": "markdown",
   "metadata": {},
   "source": [
    "## Removing Bubble Filter in frequency domain\n"
   ]
  },
  {
   "cell_type": "code",
   "execution_count": null,
   "metadata": {},
   "outputs": [],
   "source": [
    "TRACE_FFT = np.fft.fft(trace)\n",
    "trace_debubble = np.real(np.fft.ifft(TRACE_FFT*np.conj(BubbleFilter)/(BubbleFilter*np.conj(BubbleFilter) + epsilon)))\n",
    "\n",
    "# Ploting wavelet\n",
    "plt.plot(t,trace_debubble)\n",
    "plt.xlabel('Time (s)')\n",
    "plt.ylabel('Amplitude')\n",
    "plt.grid()\n",
    "\n"
   ]
  },
  {
   "cell_type": "markdown",
   "metadata": {},
   "source": [
    "# Using a Wiener filter"
   ]
  },
  {
   "cell_type": "code",
   "execution_count": null,
   "metadata": {},
   "outputs": [],
   "source": [
    "# Desired wavelet\n",
    "desired = np.zeros([nt])\n",
    "desired = trace_debubble\n",
    "\n",
    "# Autocorrelation function \n",
    "A = np.convolve(trace, trace[::-1])\n",
    "A = A[1023:-1]\n",
    "norm = np.max(np.abs(A))\n",
    "A = A/norm\n",
    "\n",
    "# Correlation function (right hand side of system)\n",
    "C = np.convolve(desired, trace[::-1])\n",
    "C = C[1023:-1]\n",
    "C = C/norm\n",
    "\n",
    "# Setting up system\n",
    "nf = 256 # Filter length\n",
    "epsilon = 1e-3 # Damping (expected noise autocorrelation value)\n",
    "M = np.zeros([nf,nf])\n",
    "for i in range(0,nf):\n",
    "    for j in range(0,nf):\n",
    "        M[i,j] = A[np.abs(i-j)]\n",
    "        if(i==j):\n",
    "            M[i,j] = M[i,j] + epsilon\n",
    "\n",
    "rhs = np.zeros([nf])\n",
    "rhs[0:nf] = C[0:nf]\n",
    "\n",
    "# Solving system\n",
    "f = np.linalg.solve(M,rhs)\n",
    "\n",
    "# Checking that solution is valid (in which case we get True)\n",
    "np.allclose(np.dot(M, f), rhs)"
   ]
  },
  {
   "cell_type": "code",
   "execution_count": null,
   "metadata": {},
   "outputs": [],
   "source": [
    "# Convolving trace with filter\n",
    "tracefilt = np.convolve(trace, f)\n",
    "tracefilt = tracefilt[0:nt]\n",
    "plt.plot(t,tracefilt)\n",
    "plt.xlabel('Time (s)')\n",
    "plt.ylabel('Amplitude')\n",
    "plt.grid()"
   ]
  },
  {
   "cell_type": "markdown",
   "metadata": {},
   "source": [
    "## Spiking deconvolution"
   ]
  },
  {
   "cell_type": "code",
   "execution_count": null,
   "metadata": {},
   "outputs": [],
   "source": [
    "# Autocorrelation function\n",
    "A = np.convolve(trace[::-1], trace)\n",
    "A = A[1023:-1]\n",
    "norm = np.max(np.abs(A))\n",
    "A = A/norm\n",
    "\n",
    "# Setting up system\n",
    "nf = 256\n",
    "epsilon = 1\n",
    "M = np.zeros([nf,nf])\n",
    "for i in range(0,nf):\n",
    "    for j in range(0,nf):\n",
    "        M[i,j] = A[np.abs(i-j)]\n",
    "        if(i==j):\n",
    "            M[i,j] = M[i,j] + epsilon\n",
    "\n",
    "rhs = np.zeros([nf])\n",
    "rhs[0] = 1\n",
    "\n",
    "# Solving system\n",
    "f = np.linalg.solve(M,rhs)\n",
    "np.allclose(np.dot(M, f), rhs)\n",
    "\n"
   ]
  },
  {
   "cell_type": "code",
   "execution_count": null,
   "metadata": {},
   "outputs": [],
   "source": [
    "# Convolving trace with filter\n",
    "tracefilt = np.convolve(trace, f)\n",
    "tracefilt = tracefilt[0:nt]\n",
    "plt.plot(t,tracefilt)\n",
    "plt.xlabel('Time (s)')\n",
    "plt.ylabel('Amplitude')\n",
    "plt.grid()"
   ]
  },
  {
   "cell_type": "markdown",
   "metadata": {},
   "source": [
    "## Predictive deconvolution"
   ]
  },
  {
   "cell_type": "code",
   "execution_count": null,
   "metadata": {},
   "outputs": [],
   "source": [
    "# Autocorrelation function \n",
    "A = np.convolve(trace, trace[::-1])\n",
    "A = A[1023:-1]\n",
    "norm = np.max(np.abs(A))\n",
    "A = A/norm\n",
    "\n",
    "# Correlation function (right hand side of system)\n",
    "delay = 0.10\n",
    "idelay = int(np.floor((delay)/dt))\n",
    "prelayed = np.zeros([nt]) # advanced trace\n",
    "prelayed[0:nt-idelay] = trace[idelay:nt]\n",
    "plt.plot(t,trace)\n",
    "plt.plot(t,prelayed)\n",
    "plt.xlabel('Time (s)')\n",
    "plt.ylabel('Amplitude')\n",
    "plt.grid()\n",
    "\n",
    "C = np.convolve(prelayed, trace[::-1])\n",
    "C = C[1023:-1]\n",
    "C = C/norm\n",
    "\n",
    "# Setting up system\n",
    "nf = 256 # Filter length\n",
    "epsilon = 1e-3 # Damping (expected noise autocorrelation value)\n",
    "M = np.zeros([nf,nf])\n",
    "for i in range(0,nf):\n",
    "    for j in range(0,nf):\n",
    "        M[i,j] = A[np.abs(i-j)]\n",
    "        if(i==j):\n",
    "            M[i,j] = M[i,j] + epsilon\n",
    "\n",
    "rhs = np.zeros([nf])\n",
    "rhs[0:nf] = C[0:nf]\n",
    "\n",
    "# Solving system\n",
    "f = np.linalg.solve(M,rhs)\n",
    "np.allclose(np.dot(M, f), rhs)"
   ]
  },
  {
   "cell_type": "code",
   "execution_count": null,
   "metadata": {},
   "outputs": [],
   "source": [
    "tracefilt = np.convolve(trace, f)\n",
    "tracefilt = tracefilt[0:nt]\n",
    "pred = np.zeros([nt])\n",
    "pred[idelay:nt] = tracefilt[0:nt-idelay]\n",
    "\n",
    "# Ploting trace and prediction \n",
    "plt.plot(t,trace)\n",
    "plt.plot(t,pred)\n",
    "plt.xlabel('Time (s)')\n",
    "plt.ylabel('Amplitude')\n",
    "plt.grid()"
   ]
  },
  {
   "cell_type": "code",
   "execution_count": null,
   "metadata": {},
   "outputs": [],
   "source": [
    "# Ploting trace difference (prediction error)\n",
    "plt.plot(t,(trace-pred))\n",
    "plt.xlabel('Time (s)')\n",
    "plt.ylabel('Amplitude')\n",
    "plt.grid()"
   ]
  },
  {
   "cell_type": "code",
   "execution_count": null,
   "metadata": {},
   "outputs": [],
   "source": []
  }
 ],
 "metadata": {
  "kernelspec": {
   "display_name": "Python 3",
   "language": "python",
   "name": "python3"
  },
  "language_info": {
   "codemirror_mode": {
    "name": "ipython",
    "version": 3
   },
   "file_extension": ".py",
   "mimetype": "text/x-python",
   "name": "python",
   "nbconvert_exporter": "python",
   "pygments_lexer": "ipython3",
   "version": "3.8.3"
  }
 },
 "nbformat": 4,
 "nbformat_minor": 4
}
