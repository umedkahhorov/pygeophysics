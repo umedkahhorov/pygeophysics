{
 "cells": [
  {
   "cell_type": "code",
   "execution_count": 1,
   "id": "cde118d6",
   "metadata": {},
   "outputs": [],
   "source": [
    "import numpy as np\n",
    "import pandas as pd\n",
    "import matplotlib.pyplot as plt\n",
    "import itertools as it \n",
    "import time\n",
    "import tensorflow as tf\n",
    "import timeit\n",
    "from scipy import optimize"
   ]
  },
  {
   "cell_type": "markdown",
   "id": "9a78599b",
   "metadata": {},
   "source": [
    "### Inversion exmaple using steepest decent method:\n",
    "### $$ x_{i+1} = x_{i} - \\alpha_{i}\\nabla f(x_{i})$$\n",
    "### where $a_{i}$ is a learning rate parameter , pos. value"
   ]
  },
  {
   "cell_type": "code",
   "execution_count": 2,
   "id": "0c0844d8",
   "metadata": {},
   "outputs": [],
   "source": [
    "# forward modelling\n",
    "def f(x = [0,1],model=[1,450e-3],addnoise=True,noise=0.1,seed=100):\n",
    "    x = np.arange(x[0],x[1],1e-2)\n",
    "    np.random.seed(seed)\n",
    "    y = model[0] * np.exp(-x/model[1])\n",
    "    data = np.array([x,y]).T\n",
    "    if addnoise == True:\n",
    "        data_w_noise = np.zeros_like(data)\n",
    "        data_w_noise[:,0] = data[:,0]\n",
    "        data_w_noise[:,1] = data[:,1] + np.random.randn(data.shape[0])*noise\n",
    "        return data_w_noise\n",
    "    else:\n",
    "        return data\n",
    "    \n",
    "# the objective function which to be minimized\n",
    "def mse_objective(C,A=1):\n",
    "    \"\"\"\n",
    "    SSR = Σᵢ(𝑦ᵢ − 𝑓(𝐱ᵢ))² \n",
    "    MSE = SSR/n\n",
    "\n",
    "    \"\"\"\n",
    "    observed_data = f()\n",
    "    model_data = f(model=[A,C])\n",
    "    n = model_data.shape[0]\n",
    "    # we want to minimize the sum of square error\n",
    "    totalError = np.sum( (observed_data[:,1] - model_data[:,1])**2)\n",
    "    return totalError/n\n",
    "\n",
    "def derivative(f=mse_objective,c=0,h=1e-6):\n",
    "    \"\"\"\n",
    "    The central difference approximation\n",
    "    \n",
    "    f(x+h) - f(x-h)\n",
    "    --------------\n",
    "         2h\n",
    "    \"\"\"\n",
    "    fx = (f(c+h) - f(c-h)) / (2*h)\n",
    "    return fx"
   ]
  },
  {
   "cell_type": "code",
   "execution_count": 3,
   "id": "186cbf16",
   "metadata": {},
   "outputs": [],
   "source": [
    "def gradient_descent(gradient,c=0,alpha=1e-5,nit=2000,tolerance=1e-5):\n",
    "    \"\"\"\n",
    "    alpha - learning rate\n",
    "    \"\"\"\n",
    "    c_update = c\n",
    "    for i in range(nit):\n",
    "        update = - alpha * gradient(c=c_update)\n",
    "        if (abs(update)<=tolerance):\n",
    "            break\n",
    "        \n",
    "        c_update +=update\n",
    "    print (f'Stoped at itraion {i}')\n",
    "    return c_update"
   ]
  },
  {
   "cell_type": "code",
   "execution_count": 4,
   "id": "c79354f2",
   "metadata": {},
   "outputs": [
    {
     "name": "stdout",
     "output_type": "stream",
     "text": [
      "Stoped at itraion 547\n",
      "True value of the decay coefficient 0.45\n",
      "Value of the decay coefficient using steepest_descent 0.4489084389\n"
     ]
    }
   ],
   "source": [
    "c = gradient_descent(derivative,c=0.1,alpha=0.01)\n",
    "print(f'True value of the decay coefficient {450e-3}')\n",
    "print(f'Value of the decay coefficient using steepest_descent {round(c,10)}')"
   ]
  },
  {
   "cell_type": "code",
   "execution_count": 5,
   "id": "03a24f54",
   "metadata": {},
   "outputs": [
    {
     "name": "stdout",
     "output_type": "stream",
     "text": [
      "case 1 \n",
      "for var. value 0.8 gradient is 0.1323\n",
      "var. value 0.8 updates to (0.79999, -1e-05) with learning rate 0.0001\n",
      "var. value 0.8 updates to (0.79868, -0.00132) with learning rate 0.01\n",
      "var. value 0.8 updates to (0.78677, -0.01323) with learning rate 0.1\n",
      "case 2\n",
      "for var. value 0.01 gradient is -1.3937\n",
      "var. value 0.01 updates to (0.01014, 0.00014) with learning rate 0.0001\n",
      "var. value 0.01 updates to (0.02394, 0.01394) with learning rate 0.01\n",
      "var. value 0.01 updates to (0.14937, 0.13937) with learning rate 0.1\n"
     ]
    }
   ],
   "source": [
    "# quality control\n",
    "print ('case 1 ')\n",
    "c = 0.8\n",
    "alpha = 0.0001\n",
    "alpha1 = 0.01\n",
    "alpha2 = 0.1\n",
    "fx = derivative(c=c)\n",
    "update = -alpha*fx\n",
    "update1 = -alpha1*fx\n",
    "update2 = -alpha2*fx\n",
    "print (f'for var. value {c} gradient is {round(fx,4)}')\n",
    "print (f'var. value {c} updates to {round(c+update,5),round(update,5)} \\\n",
    "with learning rate {alpha}')\n",
    "print (f'var. value {c} updates to {round(c+update1,5),round(update1,5)} \\\n",
    "with learning rate {alpha1}')\n",
    "print (f'var. value {c} updates to {round(c+update2,5),round(update2,5)} \\\n",
    "with learning rate {alpha2}')\n",
    "\n",
    "print ('case 2')\n",
    "c = 0.01\n",
    "alpha = 0.0001\n",
    "alpha1 = 0.01\n",
    "alpha2 = 0.1\n",
    "fx = derivative(c=c)\n",
    "update = -alpha*fx\n",
    "update1 = -alpha1*fx\n",
    "update2 = -alpha2*fx\n",
    "print (f'for var. value {c} gradient is {round(fx,4)}')\n",
    "print (f'var. value {c} updates to {round(c+update,5),round(update,5)} \\\n",
    "with learning rate {alpha}')\n",
    "print (f'var. value {c} updates to {round(c+update1,5),round(update1,5)} \\\n",
    "with learning rate {alpha1}')\n",
    "print (f'var. value {c} updates to {round(c+update2,5),round(update2,5)} \\\n",
    "with learning rate {alpha2}')"
   ]
  },
  {
   "cell_type": "code",
   "execution_count": 7,
   "id": "c7f92a00",
   "metadata": {},
   "outputs": [
    {
     "data": {
      "text/plain": [
       "Text(0.35, 0.0001, 'True value')"
      ]
     },
     "execution_count": 7,
     "metadata": {},
     "output_type": "execute_result"
    },
    {
     "data": {
      "image/png": "[encoded data removed]",
      "text/plain": [
       "<Figure size 864x432 with 2 Axes>"
      ]
     },
     "metadata": {
      "needs_background": "light"
     },
     "output_type": "display_data"
    }
   ],
   "source": [
    "C_ = np.arange(0.01,0.8,1e-3)\n",
    "errors = []\n",
    "for i in range(C_.size):\n",
    "    c = mse_objective(C_[i],1)\n",
    "    errors.append(c)\n",
    "\n",
    "errors = np.array(errors)\n",
    "gradients = np.gradient(errors)\n",
    "\n",
    "fig, axs = plt.subplots(1, 2,figsize=(12,6))  \n",
    "axs[0].plot(C_,errors); axs[0].set_xlabel('Variable values');axs[0].set_ylabel('MSE')\n",
    "axs[1].plot(C_,abs(gradients));axs[1].set_xlabel('Variable values');axs[1].set_ylabel('gradient')\n",
    "axs[0].plot(450e-3,mse_objective(C=450e-3),'r*',markersize=10)\n",
    "axs[0].annotate('True value',xy=(450e-3-0.1,mse_objective(C=450e-3)+.01),fontsize=14)\n",
    "axs[1].plot(450e-3,min(abs(gradients)),'r*',markersize=10)\n",
    "axs[1].annotate('True value',xy=(450e-3-0.1,0.0001),fontsize=14)"
   ]
  },
  {
   "cell_type": "code",
   "execution_count": null,
   "id": "93f7529e",
   "metadata": {},
   "outputs": [],
   "source": []
  }
 ],
 "metadata": {
  "kernelspec": {
   "display_name": "Python 3 (ipykernel)",
   "language": "python",
   "name": "python3"
  },
  "language_info": {
   "codemirror_mode": {
    "name": "ipython",
    "version": 3
   },
   "file_extension": ".py",
   "mimetype": "text/x-python",
   "name": "python",
   "nbconvert_exporter": "python",
   "pygments_lexer": "ipython3",
   "version": "3.8.3"
  }
 },
 "nbformat": 4,
 "nbformat_minor": 5
}
