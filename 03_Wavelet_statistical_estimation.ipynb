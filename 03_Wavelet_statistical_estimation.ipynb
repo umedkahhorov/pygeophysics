{
 "cells": [
  {
   "cell_type": "code",
   "execution_count": 9,
   "metadata": {},
   "outputs": [],
   "source": [
    "import numpy as np\n",
    "import segyio\n",
    "import pandas as pd\n",
    "import matplotlib.pyplot as plt\n",
    "import seaborn as sns\n",
    "from scipy import fftpack\n",
    "from scipy import signal"
   ]
  },
  {
   "cell_type": "code",
   "execution_count": 10,
   "metadata": {},
   "outputs": [],
   "source": [
    "from ukpgks import segy\n",
    "data = segy.read_segy('gather_38.segy',coors=False)"
   ]
  },
  {
   "cell_type": "code",
   "execution_count": 28,
   "metadata": {},
   "outputs": [],
   "source": [
    "# Statistical Wavelet Extraction\n",
    "def wavelet_stat_2D(data,dt,phase=2*np.pi):\n",
    "    \"\"\"\n",
    "    Statistical Wavelet Extraction. The frequency spectra of the autocorrelation\n",
    "    of all input traces are stacked to produce the wavelet.\n",
    "\n",
    "    1. Calculate the autocorrelation of each trace in the analysis window.\n",
    "    2. Calculate the frequency spectrum of each autocorrelation.\n",
    "       Take the square root of the modulus of each frequency spectrum,\n",
    "       the zero Hertz component is muted to zero. This step approximates the wavelet spectrum\n",
    "    3. Stack the spectra\n",
    "    4. Add the wavelet phase\n",
    "    5. Take the inverse Fast Fourier Transform (FFT) to extract the wavelet\n",
    "\n",
    "    Input\n",
    "    data                   [traces:times]\n",
    "    dt                     sampling rate of data in sec\n",
    "    phase=2*pi (positive)  [np.pi,...]\n",
    "\n",
    "    Output:\n",
    "    Dataframe with columns\n",
    "    wavelet, time, frequencies\n",
    "    \"\"\"\n",
    "    traces = data.shape[0]\n",
    "    autocorrelations = np.zeros_like(data)\n",
    "    spectrum_autocor = np.zeros_like(data,dtype='complex64')\n",
    "    for trace in range(traces):\n",
    "        autocorrelations[trace,:] = np.correlate(data[trace,:],data[trace,:],mode='same')\n",
    "        auto = autocorrelations[trace,:]\n",
    "\n",
    "        spec = np.fft.fft(auto)\n",
    "        spec = np.sqrt(np.abs(spec))\n",
    "        #spec = spec * np.exp(-1j*phase)\n",
    "\n",
    "        spectrum_autocor[trace,:] = spec\n",
    "\n",
    "    spec_stacked = np.sum(spectrum_autocor,axis=0)\n",
    "    spec_stacked = spec_stacked * np.exp(-1j*phase)\n",
    "    w = np.fft.ifft(spec_stacked)\n",
    "    w = np.fft.ifftshift(w)\n",
    "\n",
    "    out  = np.real(w)\n",
    "    Nt   = data.shape[1]\n",
    "    fnq  = 1 / (2*dt)\n",
    "    freq = np.linspace(0,fnq,int(Nt))\n",
    "    time = np.linspace(0,Nt*dt,int(Nt))\n",
    "\n",
    "    data = np.array([out,time,freq])\n",
    "    df   = pd.DataFrame(data=data.T,columns=['wavelet','time','frequency'])\n",
    "\n",
    "    return df     #out,time,freq\n"
   ]
  },
  {
   "cell_type": "code",
   "execution_count": 29,
   "metadata": {},
   "outputs": [
    {
     "data": {
      "text/plain": [
       "[<matplotlib.lines.Line2D at 0x7f68e85cf9d0>]"
      ]
     },
     "execution_count": 29,
     "metadata": {},
     "output_type": "execute_result"
    },
    {
     "data": {
      "image/png": "[encoded data removed]",
      "text/plain": [
       "<Figure size 432x288 with 1 Axes>"
      ]
     },
     "metadata": {
      "needs_background": "light"
     },
     "output_type": "display_data"
    }
   ],
   "source": [
    "df = wavelet_stat_2D(data,0.01)\n",
    "plt.plot(df.loc[1000:1500,'wavelet'])"
   ]
  },
  {
   "cell_type": "code",
   "execution_count": null,
   "metadata": {},
   "outputs": [],
   "source": []
  }
 ],
 "metadata": {
  "kernelspec": {
   "display_name": "Python 3",
   "language": "python",
   "name": "python3"
  },
  "language_info": {
   "codemirror_mode": {
    "name": "ipython",
    "version": 3
   },
   "file_extension": ".py",
   "mimetype": "text/x-python",
   "name": "python",
   "nbconvert_exporter": "python",
   "pygments_lexer": "ipython3",
   "version": "3.8.5"
  }
 },
 "nbformat": 4,
 "nbformat_minor": 4
}
